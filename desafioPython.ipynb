{
  "nbformat": 4,
  "nbformat_minor": 0,
  "metadata": {
    "colab": {
      "provenance": [],
      "gpuType": "V28",
      "authorship_tag": "ABX9TyMZR/ACF2FZ3nzQoFxyDLKA",
      "include_colab_link": true
    },
    "kernelspec": {
      "name": "python3",
      "display_name": "Python 3"
    },
    "language_info": {
      "name": "python"
    },
    "accelerator": "TPU"
  },
  "cells": [
    {
      "cell_type": "markdown",
      "metadata": {
        "id": "view-in-github",
        "colab_type": "text"
      },
      "source": [
        "<a href=\"https://colab.research.google.com/github/Leo140102/desafioPython/blob/main/desafioPython.ipynb\" target=\"_parent\"><img src=\"https://colab.research.google.com/assets/colab-badge.svg\" alt=\"Open In Colab\"/></a>"
      ]
    },
    {
      "cell_type": "code",
      "source": [
        "import hashlib\n",
        "import requests\n",
        "import sqlite3\n",
        "import pandas as pd\n",
        "from google.colab import userdata\n",
        "\n",
        "PUBLIC_KEY = userdata.get('PUBLIC_KEY')\n",
        "PRIVATE_KEY = userdata.get('PRIVATE_KEY')\n",
        "\n",
        "# Criando o hash MD5\n",
        "hashtre = hashlib.md5(str.encode(str(1) + str(PRIVATE_KEY) + str(PUBLIC_KEY)))\n",
        "\n",
        "print(hashtre.hexdigest())\n",
        "# Base URL da API da Marvel\n",
        "base = \"http://gateway.marvel.com\"\n",
        "url_montada_characters = f\"{base}/v1/public/characters?ts=1&apikey={PUBLIC_KEY}&hash={hashtre.hexdigest()}\"\n",
        "\n",
        "# Fazendo a requisição GET para a API e obtendo os dados\n",
        "#response = requests.get('https://gateway.marvel.com/v1/public/characters', verify=False)\n",
        "response = requests.get(url_montada_characters)\n",
        "\n",
        "# Convertendo a resposta para JSON\n",
        "dados = response.json()\n",
        "\n",
        "# Acessando os resultados dos personagens\n",
        "descricao = dados[\"data\"][\"results\"]\n",
        "\n",
        "# Conectando ao banco de dados SQLite (cria o banco se não existir)\n",
        "conn = sqlite3.connect('marvel_characters.db')\n",
        "cursor = conn.cursor()\n",
        "\n",
        "# Criando a tabela para armazenar personagens\n",
        "cursor.execute('''CREATE TABLE IF NOT EXISTS personagens (\n",
        "                    id INTEGER PRIMARY KEY,\n",
        "                    name TEXT,\n",
        "                    description TEXT)''')\n",
        "\n",
        "# Criando a tabela para armazenar quadrinhos\n",
        "cursor.execute('''CREATE TABLE IF NOT EXISTS comics (\n",
        "                    id INTEGER PRIMARY KEY AUTOINCREMENT,\n",
        "                    character_id INTEGER,\n",
        "                    comic_name TEXT,\n",
        "                    FOREIGN KEY (character_id) REFERENCES personagens (id))''')\n",
        "\n",
        "# Inserindo os dados dos personagens e quadrinhos no banco de dados\n",
        "for char in descricao:\n",
        "    char_id = char[\"id\"]\n",
        "    char_name = char[\"name\"]\n",
        "    char_description = char[\"description\"]\n",
        "\n",
        "    # Inserir personagem na tabela \"personagens\"\n",
        "    cursor.execute('''INSERT OR IGNORE INTO personagens (id, name, description)\n",
        "                      VALUES (?, ?, ?)''', (char_id, char_name, char_description))\n",
        "\n",
        "    # Inserir quadrinhos associados ao personagem\n",
        "    for comic in char[\"comics\"][\"items\"]:\n",
        "        comic_name = comic[\"name\"]\n",
        "        cursor.execute('''INSERT INTO comics (character_id, comic_name)\n",
        "                          VALUES (?, ?)''', (char_id, comic_name))\n",
        "\n",
        "# Commit e fechar a conexão\n",
        "conn.commit()\n",
        "\n",
        "# Lendo as tabelas com pandas\n",
        "personagens_df = pd.read_sql_query(\"SELECT * FROM personagens\", conn)\n",
        "comics_df = pd.read_sql_query(\"SELECT * FROM comics\", conn)\n",
        "\n",
        "# Fechar a conexão\n",
        "conn.close()\n",
        "\n",
        "# Exibindo as tabelas\n",
        "print(\"Tabela de Personagens:\")\n",
        "print(personagens_df)  # Exibe as primeiras linhas da tabela de personagens\n",
        "\n",
        "print(\"\\nTabela de Quadrinhos:\")\n",
        "print(comics_df)  # Exibe as primeiras linhas da tabela de quadrinhos\n"
      ],
      "metadata": {
        "id": "ryUI37ZOU8k1"
      },
      "execution_count": null,
      "outputs": []
    },
    {
      "cell_type": "code",
      "source": [],
      "metadata": {
        "id": "KkuVuRwFAfEs"
      },
      "execution_count": null,
      "outputs": []
    }
  ]
}