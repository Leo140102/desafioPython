{
  "nbformat": 4,
  "nbformat_minor": 0,
  "metadata": {
    "colab": {
      "provenance": [],
      "gpuType": "T4",
      "include_colab_link": true
    },
    "kernelspec": {
      "name": "python3",
      "display_name": "Python 3"
    },
    "language_info": {
      "name": "python"
    },
    "accelerator": "GPU"
  },
  "cells": [
    {
      "cell_type": "markdown",
      "metadata": {
        "id": "view-in-github",
        "colab_type": "text"
      },
      "source": [
        "<a href=\"https://colab.research.google.com/github/Leo140102/desafioPython/blob/main/desafioPython.ipynb\" target=\"_parent\"><img src=\"https://colab.research.google.com/assets/colab-badge.svg\" alt=\"Open In Colab\"/></a>"
      ]
    },
    {
      "cell_type": "markdown",
      "source": [
        "# **Marvel API Integration with SQLite and Pandas**"
      ],
      "metadata": {
        "id": "86GFs49b_K8A"
      }
    },
    {
      "cell_type": "code",
      "source": [
        "import hashlib\n",
        "import requests\n",
        "import pandas as pd\n",
        "import sqlite3\n",
        "from google.colab import userdata\n",
        "\n",
        "# Obtém as chaves de API do usuário.\n",
        "def get_api_keys():\n",
        "    return userdata.get('PUBLIC_KEY'), userdata.get('PRIVATE_KEY')\n",
        "\n",
        "# Gera o hash MD5 necessário para autenticação na API / Timestamp fixo.\n",
        "def generate_md5_hash(public_key, private_key):\n",
        "    ts = \"1\"\n",
        "    hash_input = f\"{ts}{private_key}{public_key}\"\n",
        "    return hashlib.md5(hash_input.encode('utf-8')).hexdigest()"
      ],
      "metadata": {
        "id": "hdpF1rxC-lgT"
      },
      "execution_count": 1,
      "outputs": []
    },
    {
      "cell_type": "markdown",
      "source": [
        "### ***Faz uma requisição GET à API e retorna os dados de todas as páginas em formato JSON.***"
      ],
      "metadata": {
        "id": "PKT3zFfU-num"
      }
    },
    {
      "cell_type": "code",
      "source": [
        "def fetch_data_from_api(endpoint, public_key, hash_md5):\n",
        "    base_url = \"http://gateway.marvel.com\"\n",
        "    url = f\"{base_url}/{endpoint}?ts=1&apikey={public_key}&hash={hash_md5}&limit=100\"\n",
        "    response = requests.get(url)\n",
        "\n",
        "    if response.status_code == 200:\n",
        "        return response.json()\n",
        "    else:\n",
        "        response.raise_for_status()"
      ],
      "metadata": {
        "id": "JRFhWVq4-wyx"
      },
      "execution_count": 2,
      "outputs": []
    },
    {
      "cell_type": "markdown",
      "source": [
        "### **Cria as tabelas no banco de dados, caso não existam.**"
      ],
      "metadata": {
        "id": "LETvA5sk-zL7"
      }
    },
    {
      "cell_type": "code",
      "source": [
        "def create_tables(cursor):\n",
        "    cursor.execute(\"\"\"CREATE TABLE IF NOT EXISTS characters (\n",
        "                        id INTEGER PRIMARY KEY,\n",
        "                        name TEXT,\n",
        "                        description TEXT,\n",
        "                        comics_returned INTEGER,\n",
        "                        stories_returned INTEGER,\n",
        "                        events_returned INTEGER)\"\"\")\n",
        "\n",
        "    cursor.execute(\"\"\"CREATE TABLE IF NOT EXISTS comics (\n",
        "                        id INTEGER PRIMARY KEY AUTOINCREMENT,\n",
        "                        comic_title TEXT,\n",
        "                        characters_returned INTEGER,\n",
        "                        events_returned INTEGER)\"\"\")\n",
        "\n",
        "    cursor.execute(\"\"\"CREATE TABLE IF NOT EXISTS events (\n",
        "                        id INTEGER PRIMARY KEY AUTOINCREMENT,\n",
        "                        title TEXT,\n",
        "                        description TEXT,\n",
        "                        start DATE,\n",
        "                        end DATE,\n",
        "                        characters_returned INTEGER,\n",
        "                        comics_returned INTEGER)\"\"\")"
      ],
      "metadata": {
        "id": "JIHrE-OW-3jq"
      },
      "execution_count": 3,
      "outputs": []
    },
    {
      "cell_type": "markdown",
      "source": [
        "### **Insere os dados na tabela especificada do banco de dados.**"
      ],
      "metadata": {
        "id": "0AfFeTDb-6Tx"
      }
    },
    {
      "cell_type": "code",
      "source": [
        "def insert_data_into_db(cursor, data, table_name):\n",
        "    for item in data:\n",
        "        if table_name == 'characters':\n",
        "            # Inserindo os dados na tabela 'characters'\n",
        "            cursor.execute(\"\"\"INSERT OR IGNORE INTO characters (id, name, description, comics_returned, stories_returned, events_returned)\n",
        "                              VALUES (?, ?, ?, ?, ?, ?)\"\"\",\n",
        "                              (item[\"id\"], item[\"name\"], item[\"description\"],\n",
        "                               item[\"comics\"]['returned'], item[\"stories\"]['returned'], item[\"events\"]['returned']))\n",
        "        elif table_name == 'comics':\n",
        "          # Inserindo os dados na tabela 'comics'\n",
        "          cursor.execute(\"\"\"INSERT OR IGNORE INTO comics ( comic_title, characters_returned, events_returned)\n",
        "                         VALUES ( ?, ?, ?)\"\"\", ( item[\"title\"], item[\"characters\"][\"returned\"] , item[\"events\"][\"returned\"]))\n",
        "        elif table_name == 'events':\n",
        "           # Inserindo os dados na tabela 'events'\n",
        "           cursor.execute(\"\"\"INSERT OR IGNORE INTO events (title, description, start, end, characters_returned, comics_returned )\n",
        "                              VALUES (?, ?, ?, ?, ?, ?)\"\"\", (item[\"title\"], item[\"description\"], item[\"start\"], item[\"end\"], item[\"characters\"][\"returned\"], item[\"comics\"]['returned']))"
      ],
      "metadata": {
        "id": "4npwXX7J--5i"
      },
      "execution_count": 4,
      "outputs": []
    },
    {
      "cell_type": "markdown",
      "source": [
        "### **Função principal que executa todas as etapas do processo.**"
      ],
      "metadata": {
        "id": "8GcxApjC_B0e"
      }
    },
    {
      "cell_type": "code",
      "source": [
        "def main():\n",
        "    try:\n",
        "        public_key, private_key = get_api_keys()\n",
        "        hash_md5 = generate_md5_hash(public_key, private_key)\n",
        "\n",
        "        # Fetching data from Marvel API\n",
        "        characters_data = fetch_data_from_api(\"v1/public/characters\", public_key, hash_md5)[\"data\"][\"results\"]\n",
        "        comics_data = fetch_data_from_api(\"v1/public/comics\", public_key, hash_md5)[\"data\"][\"results\"]\n",
        "        events_data = fetch_data_from_api(\"v1/public/events\", public_key, hash_md5)[\"data\"][\"results\"]\n",
        "\n",
        "        # Conectando ao banco de dados SQLite\n",
        "        with sqlite3.connect('marvel.db') as conn:\n",
        "            cursor = conn.cursor()\n",
        "\n",
        "            # Criando as tabelas no banco de dados\n",
        "            create_tables(cursor)\n",
        "\n",
        "            # Inserindo os dados nas tabelas\n",
        "            insert_data_into_db(cursor, characters_data, 'characters')\n",
        "            insert_data_into_db(cursor, comics_data, 'comics')\n",
        "            insert_data_into_db(cursor,events_data, 'events')\n",
        "\n",
        "        # Lendo a tabela de personagens com pandas\n",
        "        with sqlite3.connect('marvel.db') as conn:\n",
        "            personagens_df = pd.read_sql_query(\"SELECT * FROM characters\", conn)\n",
        "            comics_df = pd.read_sql_query(\"SELECT * FROM comics\", conn)\n",
        "            events_df = pd.read_sql_query(\"SELECT * FROM events\", conn)\n",
        "\n",
        "\n",
        "        # Carrega os dados da tabela personagem como dataframe do Pandas\n",
        "        df_Personagem = pd.DataFrame(personagens_df, columns = ['id', 'name', 'description', 'comics_returned', 'stories_returned', 'events_returned'])\n",
        "        df_comics = pd.DataFrame(comics_df, columns=['id','comic_title','characters_returned','events_returned'])\n",
        "        df_events = pd.DataFrame(events_df, columns=['id','title','description','start','end','characters_returned','comics_returned'])\n",
        "\n",
        "        print(\"Tabela de Personagem\")\n",
        "        display(df_Personagem)\n",
        "        print(\"Tabela de Comics\")\n",
        "        display(df_comics)\n",
        "        print(\"Tabela de Events\")\n",
        "        display(df_events)\n",
        "\n",
        "        #Carrega os dados em um arquivo .csv\n",
        "        df_Personagem.to_csv(\"df_Personagem.csv\",encoding=\"utf-8\",index=False,header=True,sep=\";\")\n",
        "        df_comics.to_csv(\"df_comics.csv\",encoding=\"utf-8\",index=False,header=True,sep=\";\")\n",
        "        df_events.to_csv(\"df_events.csv\",encoding=\"utf-8\",index=False,header=True,sep=\";\")\n",
        "\n",
        "    except requests.exceptions.RequestException as e:\n",
        "        print(f\"Erro ao fazer a requisição à API: {e}\")\n",
        "    except sqlite3.DatabaseError as e:\n",
        "        print(f\"Erro no banco de dados: {e}\")\n",
        "    except Exception as e:\n",
        "        print(f\"Erro inesperado: {e}\")\n",
        "\n",
        "main()"
      ],
      "metadata": {
        "id": "z3EynMNf_GTw"
      },
      "execution_count": null,
      "outputs": []
    }
  ]
}