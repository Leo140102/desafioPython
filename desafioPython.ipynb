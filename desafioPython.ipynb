{
  "nbformat": 4,
  "nbformat_minor": 0,
  "metadata": {
    "colab": {
      "provenance": [],
      "authorship_tag": "ABX9TyNqHVw6xSgb+1a+SGuaNd1N",
      "include_colab_link": true
    },
    "kernelspec": {
      "name": "python3",
      "display_name": "Python 3"
    },
    "language_info": {
      "name": "python"
    }
  },
  "cells": [
    {
      "cell_type": "markdown",
      "metadata": {
        "id": "view-in-github",
        "colab_type": "text"
      },
      "source": [
        "<a href=\"https://colab.research.google.com/github/Leo140102/desafioPython/blob/main/desafioPython.ipynb\" target=\"_parent\"><img src=\"https://colab.research.google.com/assets/colab-badge.svg\" alt=\"Open In Colab\"/></a>"
      ]
    },
    {
      "cell_type": "code",
      "execution_count": 2,
      "metadata": {
        "id": "Ets1-txC166k"
      },
      "outputs": [],
      "source": [
        "import hashlib\n",
        "import requests\n",
        "import pandas as pd\n",
        "import sqlite3\n",
        "from google.colab import userdata\n",
        "\n",
        "# Chaves de API\n",
        "PUBLIC_KEY = userdata.get('PUBLIC_KEY')\n",
        "PRIVATE_KEY = userdata.get('PRIVATE_KEY')\n",
        "\n",
        "# Criando o hash MD5\n",
        "hashtre = hashlib.md5(str.encode(str(1) + str(PRIVATE_KEY) + str(PUBLIC_KEY)))\n",
        "\n",
        "# Base URL da API da Marvel\n",
        "base = \"http://gateway.marvel.com\"\n",
        "url_montada_characters = f\"{base}/v1/public/characters?ts=1&apikey={PUBLIC_KEY}&hash={hashtre.hexdigest()}\"\n",
        "url_montada_comics = f\"{base}/v1/public/comics?ts=1&apikey={PUBLIC_KEY}&hash={hashtre.hexdigest()}\"\n",
        "url_montada_events = f\"{base}/v1/public/events?ts=1&apikey={PUBLIC_KEY}&hash={hashtre.hexdigest()}\"\n",
        "\n",
        "# Fazendo a requisição GET para a API e obtendo os dados\n",
        "response_characters = requests.get(url_montada_characters)\n",
        "response_comics = requests.get(url_montada_comics)\n",
        "response_events = requests.get(url_montada_events)\n",
        "\n",
        "# Convertendo a resposta para JSON\n",
        "dados_characters = response_characters.json()\n",
        "dados_comics = response_comics.json()\n",
        "dados_events = response_events.json()\n",
        "\n",
        "# Acessando os resultados dos personagens\n",
        "descricao_characters = dados_characters[\"data\"][\"results\"]\n",
        "descricao_comics = dados_comics[\"data\"][\"results\"]\n",
        "descricao_events = dados_events[\"data\"][\"results\"]"
      ]
    },
    {
      "cell_type": "code",
      "source": [
        "# Conectando ao banco de dados SQLite (cria o banco se não existir)\n",
        "# Usando o \"with\" para garantir que a conexão seja fechada automaticamente\n",
        "with sqlite3.connect('marvel.db') as conn:\n",
        "    cursor = conn.cursor()\n",
        "\n",
        "    # Criando a tabela para armazenar personagens\n",
        "    cursor.execute(\"\"\"CREATE TABLE IF NOT EXISTS characters (\n",
        "                        id INTEGER PRIMARY KEY,\n",
        "                        name TEXT,\n",
        "                        description TEXT)\"\"\")\n",
        "\n",
        "    # Criando a tabela para armazenar quadrinhos\n",
        "    cursor.execute(\"\"\"CREATE TABLE IF NOT EXISTS comics (\n",
        "                        id INTEGER PRIMARY KEY AUTOINCREMENT,\n",
        "                        comic_title TEXT)\"\"\")\n",
        "\n",
        "    # Criando a tabela para armazenar eventos\n",
        "    cursor.execute(\"\"\"CREATE TABLE IF NOT EXISTS events (\n",
        "                        id INTEGER PRIMARY KEY AUTOINCREMENT,\n",
        "                        title TEXT,\n",
        "                        description TEXT,\n",
        "                        start DATE,\n",
        "                        end DATE)\"\"\")"
      ],
      "metadata": {
        "id": "R2HAe0a-3Ek9"
      },
      "execution_count": 3,
      "outputs": []
    },
    {
      "cell_type": "code",
      "source": [
        "# Inserindo os dados dos personagens no banco de dados\n",
        "    for char in descricao_characters:\n",
        "        char_id = char[\"id\"]\n",
        "        char_name = char[\"name\"]\n",
        "        char_description = char[\"description\"]\n",
        "        cursor.execute(\"\"\"INSERT OR IGNORE INTO characters (id, name, description)\n",
        "                          VALUES (?, ?, ?)\"\"\", (char_id, char_name, char_description))\n",
        "\n",
        "    # Inserindo os dados dos quadrinhos no banco de dados\n",
        "    for comic in descricao_comics:\n",
        "        comic_title = comic[\"title\"]\n",
        "        cursor.execute(\"\"\"INSERT INTO comics (comic_title)\n",
        "                          VALUES (?)\"\"\", (comic_title,))\n",
        "\n",
        "    # Inserindo os dados dos eventos no banco de dados\n",
        "    for even in descricao_events:\n",
        "        even_title = even[\"title\"]\n",
        "        even_description = even[\"description\"]\n",
        "        even_start = even[\"start\"]\n",
        "        even_end = even[\"end\"]\n",
        "        cursor.execute(\"\"\"INSERT OR IGNORE INTO events (title, description, start, end)\n",
        "                          VALUES (?, ?, ?, ?)\"\"\", (even_title, even_description, even_start, even_end))"
      ],
      "metadata": {
        "id": "OSP6WgGg31kn"
      },
      "execution_count": null,
      "outputs": []
    }
  ]
}