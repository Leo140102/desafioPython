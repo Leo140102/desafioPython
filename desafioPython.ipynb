{
  "nbformat": 4,
  "nbformat_minor": 0,
  "metadata": {
    "colab": {
      "provenance": [],
      "gpuType": "V28",
      "authorship_tag": "ABX9TyNJJA4BAFHnm86d+HkHi4w/",
      "include_colab_link": true
    },
    "kernelspec": {
      "name": "python3",
      "display_name": "Python 3"
    },
    "language_info": {
      "name": "python"
    },
    "accelerator": "TPU"
  },
  "cells": [
    {
      "cell_type": "markdown",
      "metadata": {
        "id": "view-in-github",
        "colab_type": "text"
      },
      "source": [
        "<a href=\"https://colab.research.google.com/github/Leo140102/desafioPython/blob/main/desafioPython.ipynb\" target=\"_parent\"><img src=\"https://colab.research.google.com/assets/colab-badge.svg\" alt=\"Open In Colab\"/></a>"
      ]
    },
    {
      "cell_type": "code",
      "source": [
        "!sudo apt-get update\n",
        "!sudo apt-get install --only-upgrade openssl\n",
        "!pip install --upgrade requests urllib3"
      ],
      "metadata": {
        "id": "ymMOj-I5CHPt",
        "outputId": "4d4e803e-6aef-4ff8-f123-ced17d4ab0ef",
        "colab": {
          "base_uri": "https://localhost:8080/"
        }
      },
      "execution_count": 3,
      "outputs": [
        {
          "output_type": "stream",
          "name": "stdout",
          "text": [
            "\r0% [Working]\r            \rHit:1 https://cloud.r-project.org/bin/linux/ubuntu jammy-cran40/ InRelease\n",
            "\r0% [Waiting for headers] [Connecting to security.ubuntu.com (185.125.190.81)] [\r                                                                               \rHit:2 http://archive.ubuntu.com/ubuntu jammy InRelease\n",
            "Hit:3 http://archive.ubuntu.com/ubuntu jammy-updates InRelease\n",
            "Hit:4 http://archive.ubuntu.com/ubuntu jammy-backports InRelease\n",
            "Hit:5 https://r2u.stat.illinois.edu/ubuntu jammy InRelease\n",
            "Hit:6 http://security.ubuntu.com/ubuntu jammy-security InRelease\n",
            "Hit:7 https://ppa.launchpadcontent.net/deadsnakes/ppa/ubuntu jammy InRelease\n",
            "Hit:8 https://ppa.launchpadcontent.net/ubuntugis/ppa/ubuntu jammy InRelease\n",
            "Reading package lists... Done\n",
            "W: Skipping acquire of configured file 'main/source/Sources' as repository 'https://r2u.stat.illinois.edu/ubuntu jammy InRelease' does not seem to provide it (sources.list entry misspelt?)\n",
            "Reading package lists... Done\n",
            "Building dependency tree... Done\n",
            "Reading state information... Done\n",
            "openssl is already the newest version (3.0.2-0ubuntu1.18).\n",
            "0 upgraded, 0 newly installed, 0 to remove and 7 not upgraded.\n",
            "Requirement already satisfied: requests in /usr/local/lib/python3.11/dist-packages (2.32.3)\n",
            "Requirement already satisfied: urllib3 in /usr/local/lib/python3.11/dist-packages (2.3.0)\n",
            "Requirement already satisfied: charset-normalizer<4,>=2 in /usr/local/lib/python3.11/dist-packages (from requests) (3.4.1)\n",
            "Requirement already satisfied: idna<4,>=2.5 in /usr/local/lib/python3.11/dist-packages (from requests) (3.10)\n",
            "Requirement already satisfied: certifi>=2017.4.17 in /usr/local/lib/python3.11/dist-packages (from requests) (2024.12.14)\n"
          ]
        }
      ]
    },
    {
      "cell_type": "code",
      "source": [
        "import hashlib\n",
        "import requests\n",
        "import sqlite3\n",
        "import pandas as pd\n",
        "from google.colab import userdata\n",
        "\n",
        "PUBLIC_KEY = userdata.get('PUBLIC_KEY')\n",
        "PRIVATE_KEY = userdata.get('PRIVATE_KEY')\n",
        "\n",
        "# Criando o hash MD5\n",
        "hashtre = hashlib.md5(str.encode(str(1) + str(PRIVATE_KEY) + str(PUBLIC_KEY)))\n",
        "\n",
        "print(hashtre.hexdigest())\n",
        "# Base URL da API da Marvel\n",
        "base = \"http://gateway.marvel.com\"\n",
        "url_montada_characters = f\"{base}/v1/public/characters?ts=1&apikey={PUBLIC_KEY}&hash={hashtre.hexdigest()}\"\n",
        "\n",
        "# Fazendo a requisição GET para a API e obtendo os dados\n",
        "#response = requests.get('https://gateway.marvel.com/v1/public/characters', verify=False)\n",
        "response = requests.get(url_montada_characters)\n",
        "\n",
        "# Convertendo a resposta para JSON\n",
        "dados = response.json()\n",
        "\n",
        "# Acessando os resultados dos personagens\n",
        "descricao = dados[\"data\"][\"results\"]\n",
        "\n",
        "# Conectando ao banco de dados SQLite (cria o banco se não existir)\n",
        "conn = sqlite3.connect('marvel_characters.db')\n",
        "cursor = conn.cursor()\n",
        "\n",
        "# Criando a tabela para armazenar personagens\n",
        "cursor.execute('''CREATE TABLE IF NOT EXISTS personagens (\n",
        "                    id INTEGER PRIMARY KEY,\n",
        "                    name TEXT,\n",
        "                    description TEXT)''')\n",
        "\n",
        "# Criando a tabela para armazenar quadrinhos\n",
        "cursor.execute('''CREATE TABLE IF NOT EXISTS comics (\n",
        "                    id INTEGER PRIMARY KEY AUTOINCREMENT,\n",
        "                    character_id INTEGER,\n",
        "                    comic_name TEXT,\n",
        "                    FOREIGN KEY (character_id) REFERENCES personagens (id))''')\n",
        "\n",
        "# Inserindo os dados dos personagens e quadrinhos no banco de dados\n",
        "for char in descricao:\n",
        "    char_id = char[\"id\"]\n",
        "    char_name = char[\"name\"]\n",
        "    char_description = char[\"description\"]\n",
        "\n",
        "    # Inserir personagem na tabela \"personagens\"\n",
        "    cursor.execute('''INSERT OR IGNORE INTO personagens (id, name, description)\n",
        "                      VALUES (?, ?, ?)''', (char_id, char_name, char_description))\n",
        "\n",
        "    # Inserir quadrinhos associados ao personagem\n",
        "    for comic in char[\"comics\"][\"items\"]:\n",
        "        comic_name = comic[\"name\"]\n",
        "        cursor.execute('''INSERT INTO comics (character_id, comic_name)\n",
        "                          VALUES (?, ?)''', (char_id, comic_name))\n",
        "\n",
        "# Commit e fechar a conexão\n",
        "conn.commit()\n",
        "\n",
        "# Lendo as tabelas com pandas\n",
        "personagens_df = pd.read_sql_query(\"SELECT * FROM personagens\", conn)\n",
        "comics_df = pd.read_sql_query(\"SELECT * FROM comics\", conn)\n",
        "\n",
        "# Fechar a conexão\n",
        "conn.close()\n",
        "\n",
        "# Exibindo as tabelas\n",
        "print(\"Tabela de Personagens:\")\n",
        "print(personagens_df)  # Exibe as primeiras linhas da tabela de personagens\n",
        "\n",
        "print(\"\\nTabela de Quadrinhos:\")\n",
        "print(comics_df)  # Exibe as primeiras linhas da tabela de quadrinhos\n"
      ],
      "metadata": {
        "colab": {
          "base_uri": "https://localhost:8080/"
        },
        "id": "ryUI37ZOU8k1",
        "outputId": "e53003b4-222b-41be-c5b4-7a5b5352de83"
      },
      "execution_count": 6,
      "outputs": [
        {
          "output_type": "stream",
          "name": "stdout",
          "text": [
            "8d2db3e2472d0e9c304261ddbeda3584\n",
            "Tabela de Personagens:\n",
            "         id                        name  \\\n",
            "0   1009144                      A.I.M.   \n",
            "1   1009146  Abomination (Emil Blonsky)   \n",
            "2   1009148               Absorbing Man   \n",
            "3   1009149                       Abyss   \n",
            "4   1009150                  Agent Zero   \n",
            "5   1010354                Adam Warlock   \n",
            "6   1010699                 Aaron Stack   \n",
            "7   1010846        Aegis (Trey Rollins)   \n",
            "8   1010903   Abyss (Age of Apocalypse)   \n",
            "9   1011031              Agent X (Nijo)   \n",
            "10  1011136    Air-Walker (Gabriel Lan)   \n",
            "11  1011175                      Aginar   \n",
            "12  1011198             Agents of Atlas   \n",
            "13  1011266                Adam Destine   \n",
            "14  1011297                 Agent Brand   \n",
            "15  1011334                     3-D Man   \n",
            "16  1012717             Agatha Harkness   \n",
            "17  1016823      Abomination (Ultimate)   \n",
            "18  1017100                A-Bomb (HAS)   \n",
            "19  1017851                 Aero (Aero)   \n",
            "\n",
            "                                          description  \n",
            "0   AIM is a terrorist organization bent on destro...  \n",
            "1   Formerly known as Emil Blonsky, a spy of Sovie...  \n",
            "2                                                      \n",
            "3                                                      \n",
            "4                                                      \n",
            "5   Adam Warlock is an artificially created human ...  \n",
            "6                                                      \n",
            "7                                                      \n",
            "8                                                      \n",
            "9   Originally a partner of the mind-altering assa...  \n",
            "10                                                     \n",
            "11                                                     \n",
            "12                                                     \n",
            "13                                                     \n",
            "14                                                     \n",
            "15                                                     \n",
            "16                                                     \n",
            "17                                                     \n",
            "18  Rick Jones has been Hulk's best bud since day ...  \n",
            "19                                                     \n",
            "\n",
            "Tabela de Quadrinhos:\n",
            "      id  character_id                                         comic_name\n",
            "0      1       1011334                Avengers: The Initiative (2007) #14\n",
            "1      2       1011334  Avengers: The Initiative (2007) #14 (SPOTLIGHT...\n",
            "2      3       1011334                Avengers: The Initiative (2007) #15\n",
            "3      4       1011334                Avengers: The Initiative (2007) #16\n",
            "4      5       1011334                Avengers: The Initiative (2007) #17\n",
            "..   ...           ...                                                ...\n",
            "240  241       1011198                          Agents of Atlas (2009) #7\n",
            "241  242       1011136              Annihilation: Silver Surfer (2006) #1\n",
            "242  243       1011136          Heroes Reborn: Iron Man (Trade Paperback)\n",
            "243  244       1011136                                Iron Man (1996) #11\n",
            "244  245       1011136                                Iron Man (1996) #12\n",
            "\n",
            "[245 rows x 3 columns]\n"
          ]
        }
      ]
    },
    {
      "cell_type": "code",
      "source": [],
      "metadata": {
        "id": "KkuVuRwFAfEs"
      },
      "execution_count": null,
      "outputs": []
    }
  ]
}